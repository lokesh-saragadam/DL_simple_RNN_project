{
 "cells": [
  {
   "cell_type": "code",
   "execution_count": 2,
   "id": "eef84eaa",
   "metadata": {},
   "outputs": [
    {
     "name": "stdout",
     "output_type": "stream",
     "text": [
      "WARNING:tensorflow:From e:\\RNN_project\\DL_simple_RNN_project\\venv\\lib\\site-packages\\keras\\src\\losses.py:2976: The name tf.losses.sparse_softmax_cross_entropy is deprecated. Please use tf.compat.v1.losses.sparse_softmax_cross_entropy instead.\n",
      "\n"
     ]
    }
   ],
   "source": [
    "from tensorflow.keras.preprocessing.text import one_hot"
   ]
  },
  {
   "cell_type": "code",
   "execution_count": 1,
   "id": "2c7ad2b3",
   "metadata": {},
   "outputs": [],
   "source": [
    "sentences = [\n",
    "    \"The glass of milk\",\n",
    "    \"The glass of juice\",\n",
    "    \"The cup of Tea\",\n",
    "    \"I am a good boy\",\n",
    "    \"I am a Student\",\n",
    "    \"I make AI Projects\"\n",
    "]"
   ]
  },
  {
   "cell_type": "markdown",
   "id": "5973c47c",
   "metadata": {},
   "source": [
    "##Define the Vocabulary Size"
   ]
  },
  {
   "cell_type": "code",
   "execution_count": null,
   "id": "349b215b",
   "metadata": {},
   "outputs": [],
   "source": []
  }
 ],
 "metadata": {
  "kernelspec": {
   "display_name": "venv",
   "language": "python",
   "name": "python3"
  },
  "language_info": {
   "codemirror_mode": {
    "name": "ipython",
    "version": 3
   },
   "file_extension": ".py",
   "mimetype": "text/x-python",
   "name": "python",
   "nbconvert_exporter": "python",
   "pygments_lexer": "ipython3",
   "version": "3.10.11"
  }
 },
 "nbformat": 4,
 "nbformat_minor": 5
}
