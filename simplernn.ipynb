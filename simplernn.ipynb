{
 "cells": [
  {
   "cell_type": "code",
   "execution_count": 1,
   "id": "a1db7647",
   "metadata": {},
   "outputs": [
    {
     "name": "stdout",
     "output_type": "stream",
     "text": [
      "WARNING:tensorflow:From e:\\RNN_project\\DL_simple_RNN_project\\venv\\lib\\site-packages\\keras\\src\\losses.py:2976: The name tf.losses.sparse_softmax_cross_entropy is deprecated. Please use tf.compat.v1.losses.sparse_softmax_cross_entropy instead.\n",
      "\n"
     ]
    }
   ],
   "source": [
    "import numpy as np\n",
    "import tensorflow as tf\n",
    "import keras\n",
    "from keras.datasets import imdb\n",
    "from keras.preprocessing import sequence\n",
    "from keras.models import Sequential\n",
    "from keras.layers import Embedding,SimpleRNN,Dense"
   ]
  },
  {
   "cell_type": "markdown",
   "id": "da0b5712",
   "metadata": {},
   "source": [
    "#Loading the Dataset"
   ]
  },
  {
   "cell_type": "code",
   "execution_count": 22,
   "id": "f622e04e",
   "metadata": {},
   "outputs": [
    {
     "name": "stdout",
     "output_type": "stream",
     "text": [
      "Training data shape :(25000,) , Training lables shape :(25000,)\n",
      "Testing data shape :(25000,) , Testing lables shape :(25000,)\n"
     ]
    }
   ],
   "source": [
    "max_feat = 10000 #maximum features\n",
    "(x_train,y_train),(x_test,y_test) = imdb.load_data(num_words=max_feat)\n",
    "\n",
    "##printing the shape of the data\n",
    "print(f'Training data shape :{x_train.shape} , Training lables shape :{y_train.shape}')\n",
    "print(f'Testing data shape :{x_test.shape} , Testing lables shape :{y_test.shape}')\n"
   ]
  },
  {
   "cell_type": "markdown",
   "id": "51aa41e0",
   "metadata": {},
   "source": [
    "Padding\n"
   ]
  },
  {
   "cell_type": "code",
   "execution_count": 23,
   "id": "876261ad",
   "metadata": {},
   "outputs": [],
   "source": [
    "x_train = sequence.pad_sequences(x_train,padding ='pre',maxlen = 500)\n",
    "x_test = sequence.pad_sequences(x_test,padding ='pre',maxlen = 500)"
   ]
  },
  {
   "cell_type": "code",
   "execution_count": 24,
   "id": "29628d68",
   "metadata": {},
   "outputs": [
    {
     "data": {
      "text/plain": [
       "array([   0,    0,    0,    0,    0,    0,    0,    0,    0,    0,    0,\n",
       "          0,    0,    0,    0,    0,    0,    0,    0,    0,    0,    0,\n",
       "          0,    0,    0,    0,    0,    0,    0,    0,    0,    0,    0,\n",
       "          0,    0,    0,    0,    0,    0,    0,    0,    0,    0,    0,\n",
       "          0,    0,    0,    0,    0,    0,    0,    0,    0,    0,    0,\n",
       "          0,    0,    0,    0,    0,    0,    0,    0,    0,    0,    0,\n",
       "          0,    0,    0,    0,    0,    0,    0,    0,    0,    0,    0,\n",
       "          0,    0,    0,    0,    0,    0,    0,    0,    0,    0,    0,\n",
       "          0,    0,    0,    0,    0,    0,    0,    0,    0,    0,    0,\n",
       "          0,    0,    0,    0,    0,    0,    0,    0,    0,    0,    0,\n",
       "          0,    0,    0,    0,    0,    0,    0,    0,    0,    0,    0,\n",
       "          0,    0,    0,    0,    0,    0,    0,    0,    0,    0,    0,\n",
       "          0,    0,    0,    0,    0,    0,    0,    0,    0,    0,    0,\n",
       "          0,    0,    0,    0,    0,    0,    0,    0,    0,    0,    0,\n",
       "          0,    0,    0,    0,    0,    0,    0,    0,    0,    0,    0,\n",
       "          0,    0,    0,    0,    0,    0,    0,    0,    0,    0,    0,\n",
       "          0,    0,    0,    0,    0,    0,    0,    0,    0,    0,    0,\n",
       "          0,    0,    0,    0,    0,    0,    0,    0,    0,    0,    0,\n",
       "          0,    0,    0,    0,    0,    0,    0,    0,    0,    0,    0,\n",
       "          0,    0,    0,    0,    0,    0,    0,    0,    0,    0,    0,\n",
       "          0,    0,    0,    0,    0,    0,    0,    0,    0,    0,    0,\n",
       "          0,    0,    0,    0,    0,    0,    0,    0,    0,    0,    0,\n",
       "          0,    0,    0,    0,    0,    0,    0,    0,    0,    0,    0,\n",
       "          0,    0,    0,    0,    0,    0,    0,    0,    0,    0,    0,\n",
       "          0,    0,    0,    0,    0,    0,    0,    0,    0,    0,    0,\n",
       "          0,    0,    0,    0,    0,    0,    0,    1,   14,   22,   16,\n",
       "         43,  530,  973, 1622, 1385,   65,  458, 4468,   66, 3941,    4,\n",
       "        173,   36,  256,    5,   25,  100,   43,  838,  112,   50,  670,\n",
       "          2,    9,   35,  480,  284,    5,  150,    4,  172,  112,  167,\n",
       "          2,  336,  385,   39,    4,  172, 4536, 1111,   17,  546,   38,\n",
       "         13,  447,    4,  192,   50,   16,    6,  147, 2025,   19,   14,\n",
       "         22,    4, 1920, 4613,  469,    4,   22,   71,   87,   12,   16,\n",
       "         43,  530,   38,   76,   15,   13, 1247,    4,   22,   17,  515,\n",
       "         17,   12,   16,  626,   18,    2,    5,   62,  386,   12,    8,\n",
       "        316,    8,  106,    5,    4, 2223, 5244,   16,  480,   66, 3785,\n",
       "         33,    4,  130,   12,   16,   38,  619,    5,   25,  124,   51,\n",
       "         36,  135,   48,   25, 1415,   33,    6,   22,   12,  215,   28,\n",
       "         77,   52,    5,   14,  407,   16,   82,    2,    8,    4,  107,\n",
       "        117, 5952,   15,  256,    4,    2,    7, 3766,    5,  723,   36,\n",
       "         71,   43,  530,  476,   26,  400,  317,   46,    7,    4,    2,\n",
       "       1029,   13,  104,   88,    4,  381,   15,  297,   98,   32, 2071,\n",
       "         56,   26,  141,    6,  194, 7486,   18,    4,  226,   22,   21,\n",
       "        134,  476,   26,  480,    5,  144,   30, 5535,   18,   51,   36,\n",
       "         28,  224,   92,   25,  104,    4,  226,   65,   16,   38, 1334,\n",
       "         88,   12,   16,  283,    5,   16, 4472,  113,  103,   32,   15,\n",
       "         16, 5345,   19,  178,   32])"
      ]
     },
     "execution_count": 24,
     "metadata": {},
     "output_type": "execute_result"
    }
   ],
   "source": [
    "x_train[0]"
   ]
  },
  {
   "cell_type": "markdown",
   "id": "cb63b74e",
   "metadata": {},
   "source": [
    "# Train simple RNN"
   ]
  },
  {
   "cell_type": "code",
   "execution_count": 25,
   "id": "102d1e1c",
   "metadata": {},
   "outputs": [
    {
     "name": "stdout",
     "output_type": "stream",
     "text": [
      "Model: \"sequential_3\"\n",
      "_________________________________________________________________\n",
      " Layer (type)                Output Shape              Param #   \n",
      "=================================================================\n",
      " embedding_3 (Embedding)     (None, 500, 128)          1280000   \n",
      "                                                                 \n",
      " simple_rnn_3 (SimpleRNN)    (None, 128)               32896     \n",
      "                                                                 \n",
      " dense_3 (Dense)             (None, 1)                 129       \n",
      "                                                                 \n",
      "=================================================================\n",
      "Total params: 1313025 (5.01 MB)\n",
      "Trainable params: 1313025 (5.01 MB)\n",
      "Non-trainable params: 0 (0.00 Byte)\n",
      "_________________________________________________________________\n"
     ]
    }
   ],
   "source": [
    "model = Sequential()\n",
    "model.add(Embedding(max_feat,128,input_length= 500)) ##Embedding layer \n",
    "model.add(SimpleRNN(128,activation = 'relu'))\n",
    "model.add(Dense(1,activation = 'sigmoid'))\n",
    "model.summary()"
   ]
  },
  {
   "cell_type": "code",
   "execution_count": 26,
   "id": "4b276285",
   "metadata": {},
   "outputs": [],
   "source": [
    "model.compile('adam','binary_crossentropy',metrics = ['accuracy'])"
   ]
  },
  {
   "cell_type": "markdown",
   "id": "5dc841e4",
   "metadata": {},
   "source": [
    "# Creating an Instance of early stopping Callback"
   ]
  },
  {
   "cell_type": "code",
   "execution_count": 27,
   "id": "b41dbeb5",
   "metadata": {},
   "outputs": [],
   "source": [
    "from keras.callbacks import EarlyStopping\n",
    "\n",
    "earlystop = EarlyStopping(monitor='val_loss',patience=5,restore_best_weights = True) ## Stop if no improvement for more than 5 Epochs"
   ]
  },
  {
   "cell_type": "code",
   "execution_count": 28,
   "id": "82a26129",
   "metadata": {},
   "outputs": [
    {
     "name": "stdout",
     "output_type": "stream",
     "text": [
      "Epoch 1/10\n",
      "547/547 [==============================] - 65s 117ms/step - loss: 5279071.5000 - accuracy: 0.6087 - val_loss: 0.6182 - val_accuracy: 0.6416\n",
      "Epoch 2/10\n",
      "547/547 [==============================] - 63s 115ms/step - loss: 1.6063 - accuracy: 0.6770 - val_loss: 0.5943 - val_accuracy: 0.6633\n",
      "Epoch 3/10\n",
      "547/547 [==============================] - 63s 116ms/step - loss: 6417305.0000 - accuracy: 0.6137 - val_loss: 0.6459 - val_accuracy: 0.5951\n",
      "Epoch 4/10\n",
      "547/547 [==============================] - 63s 116ms/step - loss: 0.5978 - accuracy: 0.6714 - val_loss: 0.6367 - val_accuracy: 0.6135\n",
      "Epoch 5/10\n",
      "547/547 [==============================] - 67s 123ms/step - loss: 0.4992 - accuracy: 0.7461 - val_loss: 0.5079 - val_accuracy: 0.7599\n",
      "Epoch 6/10\n",
      "547/547 [==============================] - 87s 158ms/step - loss: 0.3720 - accuracy: 0.8342 - val_loss: 0.4848 - val_accuracy: 0.7903\n",
      "Epoch 7/10\n",
      "547/547 [==============================] - 79s 144ms/step - loss: 0.2793 - accuracy: 0.8853 - val_loss: 0.4978 - val_accuracy: 0.7907\n",
      "Epoch 8/10\n",
      "547/547 [==============================] - 70s 127ms/step - loss: 0.2379 - accuracy: 0.9043 - val_loss: 0.5234 - val_accuracy: 0.7740\n",
      "Epoch 9/10\n",
      "547/547 [==============================] - 69s 126ms/step - loss: 0.1759 - accuracy: 0.9320 - val_loss: 0.5684 - val_accuracy: 0.7971\n",
      "Epoch 10/10\n",
      "547/547 [==============================] - 66s 121ms/step - loss: 0.2913 - accuracy: 0.8689 - val_loss: 0.5901 - val_accuracy: 0.7252\n"
     ]
    }
   ],
   "source": [
    "history = model.fit(x_train,y_train,epochs=10,batch_size=32,validation_split = 0.3,callbacks = [earlystop])"
   ]
  },
  {
   "cell_type": "markdown",
   "id": "f3ba340a",
   "metadata": {},
   "source": [
    "Save the model"
   ]
  },
  {
   "cell_type": "code",
   "execution_count": 29,
   "id": "2d589e6a",
   "metadata": {},
   "outputs": [],
   "source": [
    "model.save('simple_rnn_imdb.h5')"
   ]
  },
  {
   "cell_type": "code",
   "execution_count": null,
   "id": "da191b84",
   "metadata": {},
   "outputs": [],
   "source": []
  }
 ],
 "metadata": {
  "kernelspec": {
   "display_name": "venv",
   "language": "python",
   "name": "python3"
  },
  "language_info": {
   "codemirror_mode": {
    "name": "ipython",
    "version": 3
   },
   "file_extension": ".py",
   "mimetype": "text/x-python",
   "name": "python",
   "nbconvert_exporter": "python",
   "pygments_lexer": "ipython3",
   "version": "3.10.11"
  }
 },
 "nbformat": 4,
 "nbformat_minor": 5
}
