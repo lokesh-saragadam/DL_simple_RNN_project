{
 "cells": [
  {
   "cell_type": "code",
   "execution_count": 10,
   "id": "a1db7647",
   "metadata": {},
   "outputs": [],
   "source": [
    "import numpy as np\n",
    "import tensorflow as tf\n",
    "import keras\n",
    "from keras.datasets import imdb\n",
    "from keras.preprocessing import sequence\n",
    "from keras.models import Sequential\n",
    "from keras.layers import Embedding,SimpleRNN,Dense"
   ]
  },
  {
   "cell_type": "markdown",
   "id": "da0b5712",
   "metadata": {},
   "source": [
    "#Loading the Dataset"
   ]
  },
  {
   "cell_type": "code",
   "execution_count": 11,
   "id": "f622e04e",
   "metadata": {},
   "outputs": [
    {
     "name": "stdout",
     "output_type": "stream",
     "text": [
      "Training data shape :(25000,) , Training lables shape :(25000,)\n",
      "Testing data shape :(25000,) , Testing lables shape :(25000,)\n"
     ]
    }
   ],
   "source": [
    "max_feat = 1000 #maximum features\n",
    "(x_train,y_train),(x_test,y_test) = imdb.load_data(num_words=max_feat)\n",
    "\n",
    "##printing the shape of the data\n",
    "print(f'Training data shape :{x_train.shape} , Training lables shape :{y_train.shape}')\n",
    "print(f'Testing data shape :{x_test.shape} , Testing lables shape :{y_test.shape}')\n"
   ]
  },
  {
   "cell_type": "markdown",
   "id": "51aa41e0",
   "metadata": {},
   "source": [
    "Padding\n"
   ]
  },
  {
   "cell_type": "code",
   "execution_count": 12,
   "id": "876261ad",
   "metadata": {},
   "outputs": [],
   "source": [
    "x_train = sequence.pad_sequences(x_train,padding ='pre',maxlen = 500)\n",
    "x_test = sequence.pad_sequences(x_test,padding ='pre',maxlen = 500)"
   ]
  },
  {
   "cell_type": "code",
   "execution_count": 13,
   "id": "29628d68",
   "metadata": {},
   "outputs": [
    {
     "data": {
      "text/plain": [
       "array([  0,   0,   0,   0,   0,   0,   0,   0,   0,   0,   0,   0,   0,\n",
       "         0,   0,   0,   0,   0,   0,   0,   0,   0,   0,   0,   0,   0,\n",
       "         0,   0,   0,   0,   0,   0,   0,   0,   0,   0,   0,   0,   0,\n",
       "         0,   0,   0,   0,   0,   0,   0,   0,   0,   0,   0,   0,   0,\n",
       "         0,   0,   0,   0,   0,   0,   0,   0,   0,   0,   0,   0,   0,\n",
       "         0,   0,   0,   0,   0,   0,   0,   0,   0,   0,   0,   0,   0,\n",
       "         0,   0,   0,   0,   0,   0,   0,   0,   0,   0,   0,   0,   0,\n",
       "         0,   0,   0,   0,   0,   0,   0,   0,   0,   0,   0,   0,   0,\n",
       "         0,   0,   0,   0,   0,   0,   0,   0,   0,   0,   0,   0,   0,\n",
       "         0,   0,   0,   0,   0,   0,   0,   0,   0,   0,   0,   0,   0,\n",
       "         0,   0,   0,   0,   0,   0,   0,   0,   0,   0,   0,   0,   0,\n",
       "         0,   0,   0,   0,   0,   0,   0,   0,   0,   0,   0,   0,   0,\n",
       "         0,   0,   0,   0,   0,   0,   0,   0,   0,   0,   0,   0,   0,\n",
       "         0,   0,   0,   0,   0,   0,   0,   0,   0,   0,   0,   0,   0,\n",
       "         0,   0,   0,   0,   0,   0,   0,   0,   0,   0,   0,   0,   0,\n",
       "         0,   0,   0,   0,   0,   0,   0,   0,   0,   0,   0,   0,   0,\n",
       "         0,   0,   0,   0,   0,   0,   0,   0,   0,   0,   0,   0,   0,\n",
       "         0,   0,   0,   0,   0,   0,   0,   0,   0,   0,   0,   0,   0,\n",
       "         0,   0,   0,   0,   0,   0,   0,   0,   0,   0,   0,   0,   0,\n",
       "         0,   0,   0,   0,   0,   0,   0,   0,   0,   0,   0,   0,   0,\n",
       "         0,   0,   0,   0,   0,   0,   0,   0,   0,   0,   0,   0,   0,\n",
       "         0,   0,   0,   0,   0,   0,   0,   0,   0,   1,  14,  22,  16,\n",
       "        43, 530, 973,   2,   2,  65, 458,   2,  66,   2,   4, 173,  36,\n",
       "       256,   5,  25, 100,  43, 838, 112,  50, 670,   2,   9,  35, 480,\n",
       "       284,   5, 150,   4, 172, 112, 167,   2, 336, 385,  39,   4, 172,\n",
       "         2,   2,  17, 546,  38,  13, 447,   4, 192,  50,  16,   6, 147,\n",
       "         2,  19,  14,  22,   4,   2,   2, 469,   4,  22,  71,  87,  12,\n",
       "        16,  43, 530,  38,  76,  15,  13,   2,   4,  22,  17, 515,  17,\n",
       "        12,  16, 626,  18,   2,   5,  62, 386,  12,   8, 316,   8, 106,\n",
       "         5,   4,   2,   2,  16, 480,  66,   2,  33,   4, 130,  12,  16,\n",
       "        38, 619,   5,  25, 124,  51,  36, 135,  48,  25,   2,  33,   6,\n",
       "        22,  12, 215,  28,  77,  52,   5,  14, 407,  16,  82,   2,   8,\n",
       "         4, 107, 117,   2,  15, 256,   4,   2,   7,   2,   5, 723,  36,\n",
       "        71,  43, 530, 476,  26, 400, 317,  46,   7,   4,   2,   2,  13,\n",
       "       104,  88,   4, 381,  15, 297,  98,  32,   2,  56,  26, 141,   6,\n",
       "       194,   2,  18,   4, 226,  22,  21, 134, 476,  26, 480,   5, 144,\n",
       "        30,   2,  18,  51,  36,  28, 224,  92,  25, 104,   4, 226,  65,\n",
       "        16,  38,   2,  88,  12,  16, 283,   5,  16,   2, 113, 103,  32,\n",
       "        15,  16,   2,  19, 178,  32])"
      ]
     },
     "execution_count": 13,
     "metadata": {},
     "output_type": "execute_result"
    }
   ],
   "source": [
    "x_train[0]"
   ]
  },
  {
   "cell_type": "markdown",
   "id": "cb63b74e",
   "metadata": {},
   "source": [
    "# Train simple RNN"
   ]
  },
  {
   "cell_type": "code",
   "execution_count": 14,
   "id": "102d1e1c",
   "metadata": {},
   "outputs": [
    {
     "name": "stdout",
     "output_type": "stream",
     "text": [
      "Model: \"sequential_1\"\n",
      "_________________________________________________________________\n",
      " Layer (type)                Output Shape              Param #   \n",
      "=================================================================\n",
      " embedding_1 (Embedding)     (None, 500, 128)          128000    \n",
      "                                                                 \n",
      " simple_rnn_1 (SimpleRNN)    (None, 128)               32896     \n",
      "                                                                 \n",
      " dense_1 (Dense)             (None, 1)                 129       \n",
      "                                                                 \n",
      "=================================================================\n",
      "Total params: 161025 (629.00 KB)\n",
      "Trainable params: 161025 (629.00 KB)\n",
      "Non-trainable params: 0 (0.00 Byte)\n",
      "_________________________________________________________________\n"
     ]
    }
   ],
   "source": [
    "model = Sequential()\n",
    "model.add(Embedding(max_feat,128,input_length= 500)) ##Embedding layer \n",
    "model.add(SimpleRNN(128,activation = 'relu'))\n",
    "model.add(Dense(1,activation = 'sigmoid'))\n",
    "model.summary()"
   ]
  },
  {
   "cell_type": "code",
   "execution_count": 15,
   "id": "4b276285",
   "metadata": {},
   "outputs": [],
   "source": [
    "model.compile('adam','binary_crossentropy',metrics = ['accuracy'])"
   ]
  },
  {
   "cell_type": "markdown",
   "id": "5dc841e4",
   "metadata": {},
   "source": [
    "# Creating an Instance of early stopping Callback"
   ]
  },
  {
   "cell_type": "code",
   "execution_count": 16,
   "id": "b41dbeb5",
   "metadata": {},
   "outputs": [],
   "source": [
    "from keras.callbacks import EarlyStopping\n",
    "\n",
    "earlystop = EarlyStopping(monitor='val_loss',patience=5,restore_best_weights = True) ## Stop if no improvement for more than 5 Epochs"
   ]
  },
  {
   "cell_type": "code",
   "execution_count": 17,
   "id": "82a26129",
   "metadata": {},
   "outputs": [
    {
     "name": "stdout",
     "output_type": "stream",
     "text": [
      "Epoch 1/10\n",
      "625/625 [==============================] - 64s 100ms/step - loss: 358630304.0000 - accuracy: 0.5876 - val_loss: 0.8017 - val_accuracy: 0.5332\n",
      "Epoch 2/10\n",
      "625/625 [==============================] - 55s 88ms/step - loss: 695.6038 - accuracy: 0.5792 - val_loss: 0.6616 - val_accuracy: 0.5884\n",
      "Epoch 3/10\n",
      "625/625 [==============================] - 61s 98ms/step - loss: 0.6274 - accuracy: 0.6239 - val_loss: 0.6217 - val_accuracy: 0.6312\n",
      "Epoch 4/10\n",
      "625/625 [==============================] - 54s 87ms/step - loss: 0.5768 - accuracy: 0.6862 - val_loss: 0.5631 - val_accuracy: 0.7210\n",
      "Epoch 5/10\n",
      "625/625 [==============================] - 51s 81ms/step - loss: 0.5212 - accuracy: 0.7556 - val_loss: 0.5184 - val_accuracy: 0.7540\n",
      "Epoch 6/10\n",
      "625/625 [==============================] - 52s 83ms/step - loss: 0.4971 - accuracy: 0.7663 - val_loss: 0.5059 - val_accuracy: 0.7666\n",
      "Epoch 7/10\n",
      "625/625 [==============================] - 52s 84ms/step - loss: 0.4747 - accuracy: 0.7821 - val_loss: 0.4847 - val_accuracy: 0.7758\n",
      "Epoch 8/10\n",
      "625/625 [==============================] - 51s 81ms/step - loss: 0.4661 - accuracy: 0.7858 - val_loss: 0.4778 - val_accuracy: 0.7796\n",
      "Epoch 9/10\n",
      "625/625 [==============================] - 53s 84ms/step - loss: 0.4572 - accuracy: 0.7926 - val_loss: 0.4670 - val_accuracy: 0.7862\n",
      "Epoch 10/10\n",
      "625/625 [==============================] - 52s 84ms/step - loss: 0.4506 - accuracy: 0.7936 - val_loss: 0.5056 - val_accuracy: 0.7534\n"
     ]
    }
   ],
   "source": [
    "history = model.fit(x_train,y_train,epochs=10,batch_size=32,validation_split = 0.2,callbacks = [earlystop])"
   ]
  },
  {
   "cell_type": "markdown",
   "id": "f3ba340a",
   "metadata": {},
   "source": [
    "Save the model"
   ]
  },
  {
   "cell_type": "code",
   "execution_count": 18,
   "id": "2d589e6a",
   "metadata": {},
   "outputs": [
    {
     "name": "stderr",
     "output_type": "stream",
     "text": [
      "e:\\RNN_project\\DL_simple_RNN_project\\venv\\lib\\site-packages\\keras\\src\\engine\\training.py:3103: UserWarning: You are saving your model as an HDF5 file via `model.save()`. This file format is considered legacy. We recommend using instead the native Keras format, e.g. `model.save('my_model.keras')`.\n",
      "  saving_api.save_model(\n"
     ]
    }
   ],
   "source": [
    "model.save('simple_rnn_imdb.h5')"
   ]
  },
  {
   "cell_type": "code",
   "execution_count": null,
   "id": "da191b84",
   "metadata": {},
   "outputs": [],
   "source": []
  }
 ],
 "metadata": {
  "kernelspec": {
   "display_name": "venv",
   "language": "python",
   "name": "python3"
  },
  "language_info": {
   "codemirror_mode": {
    "name": "ipython",
    "version": 3
   },
   "file_extension": ".py",
   "mimetype": "text/x-python",
   "name": "python",
   "nbconvert_exporter": "python",
   "pygments_lexer": "ipython3",
   "version": "3.10.11"
  }
 },
 "nbformat": 4,
 "nbformat_minor": 5
}
